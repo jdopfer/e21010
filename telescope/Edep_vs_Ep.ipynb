{
 "cells": [
  {
   "cell_type": "code",
   "execution_count": null,
   "id": "ee407155",
   "metadata": {},
   "outputs": [],
   "source": [
    "import uproot\n",
    "import awkward as ak\n",
    "\n",
    "import numpy as np\n",
    "import matplotlib as mpl\n",
    "import matplotlib.pyplot as plt\n",
    "\n",
    "from scipy.optimize import curve_fit\n",
    "\n",
    "plt.rc(\"pdf\", fonttype=42)\n",
    "plt.rc(\"pdf\", fonttype=42)\n",
    "plt.rc(\"axes\", labelsize=20)\n",
    "plt.rc(\"xtick\", labelsize=18, top=True, direction=\"in\")\n",
    "plt.rc(\"ytick\", labelsize=18, right=True, direction=\"in\")\n",
    "plt.rc(\"axes\", titlesize=20)\n",
    "plt.rc(\"legend\", fontsize=18)\n",
    "\n",
    "import os\n",
    "curdir = os.getcwd()\n",
    "while not os.path.exists(\".projectroot\") and os.getcwd() != os.path.expanduser('~'):\n",
    "    os.chdir(\"..\")\n",
    "try:\n",
    "    proot = open(\".projectroot\").readline()\n",
    "except:\n",
    "    print(\"Could not find file '.projectroot'.\")\n",
    "    print(\"Fallback: Look for the file 'rpad.py' in the current working directory (%s).\" % curdir)\n",
    "    print(\"Fonts in figures might not appear as intended, either.\")\n",
    "os.chdir(curdir)\n",
    "import sys\n",
    "import matplotlib.font_manager as font_manager\n",
    "if len(proot) > 0:\n",
    "    sys.path.append(proot+\"/python\")\n",
    "    font_dir = proot + '/fonts'\n",
    "    font_files = font_manager.findSystemFonts(font_dir)\n",
    "    for f in font_files:\n",
    "        font_manager.FontManager.addfont(font_manager.fontManager, path=f)\n",
    "    plt.rcParams.update({\"font.family\": \"serif\", \"font.serif\": \"Linux Libertine O\", \"font.cursive\": \"Linux Libertine O\", \"font.sans-serif\": \"Linux Libertine O\", \"mathtext.fontset\": \"custom\"})\n",
    "from rpad import rpad\n",
    "\n",
    "os.makedirs(\"tmp\", exist_ok=True)\n",
    "\n",
    "dssds = [\"U3\", \"U4\", \"U5\"]\n",
    "ids = [1, 2, 3]"
   ]
  },
  {
   "cell_type": "code",
   "execution_count": null,
   "id": "583c8de0",
   "metadata": {},
   "outputs": [],
   "source": [
    "# v, Ep, fEdep, bEdep = np.loadtxt('Edep_vs_Ep_U3_200keV.dat', unpack=True)\n",
    "v, Ep, fEdep, bEdep = np.loadtxt('Edep_vs_Ep_U3.dat', unpack=True)\n",
    "Ep /= 1e3\n",
    "fEdep /= 1e3\n",
    "bEdep /= 1e3\n",
    "v = np.rad2deg(v)"
   ]
  },
  {
   "cell_type": "code",
   "execution_count": null,
   "id": "e9878b0a",
   "metadata": {},
   "outputs": [],
   "source": [
    "v0 = np.min(v)\n",
    "v1 = np.max(v)\n",
    "\n",
    "Ep0    =    Ep[(v == v0) & (Ep <= 8.)]\n",
    "fEdep0 = fEdep[(v == v0) & (Ep <= 8.)]\n",
    "bEdep0 = bEdep[(v == v0) & (Ep <= 8.)]\n",
    "\n",
    "Ep1    =    Ep[(v == v1) & (Ep <= 8.)]\n",
    "fEdep1 = fEdep[(v == v1) & (Ep <= 8.)]\n",
    "bEdep1 = bEdep[(v == v1) & (Ep <= 8.)]"
   ]
  },
  {
   "cell_type": "code",
   "execution_count": null,
   "id": "42fb16d1",
   "metadata": {
    "scrolled": false
   },
   "outputs": [],
   "source": [
    "#plt.figure(figsize=(1.3*7, 1.3*4))\n",
    "plt.plot(Ep0, fEdep0, 'k-', lw=2.6,  label='$\\Delta E\\,\\,\\mathrm{detector},\\,\\\\theta =%d°$' % 0, zorder=10)\n",
    "plt.plot(Ep0, bEdep0, 'k--', lw=2.6, label='$E\\,\\,\\mathrm{detector},\\,\\\\theta =%d°$' % 0, zorder=11)\n",
    "plt.plot(Ep1, fEdep1, ls='-', c='grey', lw=1.6, label='$\\Delta E\\,\\,\\mathrm{detector},\\,\\\\theta =%d°$' % round(v1))\n",
    "plt.plot(Ep1, bEdep1, ls='--', c='grey', lw=1.6, label='$E\\,\\,\\mathrm{detector},\\,\\\\theta =%d°$' % round(v1))\n",
    "plt.vlines(Ep0[fEdep0 == np.max(fEdep0)], np.min(bEdep0), np.max(fEdep0), color='k', lw=0.7, zorder=1)\n",
    "plt.vlines(Ep0[np.nonzero(bEdep0)[0][0]], bEdep0[np.nonzero(bEdep0)[0][0]] - 0.1, fEdep0[np.nonzero(bEdep0)[0][0]], color='k', lw=0.7, zorder=1)\n",
    "plt.vlines(Ep1[fEdep1 == np.max(fEdep1)], np.min(bEdep0), np.max(fEdep1), color='grey', lw=0.7, zorder=1)\n",
    "plt.vlines(Ep0[np.nonzero(bEdep1)[0][0]], bEdep1[np.nonzero(bEdep1)[0][0]], fEdep1[np.nonzero(bEdep1)[0][0]], color='grey', lw=0.7, zorder=1)\n",
    "plt.hlines(np.max(fEdep0), 1.2, Ep0[fEdep0 == np.max(fEdep0)], color='k', lw=0.7, ls='--', zorder=1)\n",
    "plt.hlines(fEdep0[np.nonzero(bEdep0)[0][0]], 1.2, Ep0[np.nonzero(bEdep0)[0][0]], color='k', lw=0.7, ls='--', zorder=1)\n",
    "plt.hlines(np.max(fEdep1), 1.2, Ep1[fEdep1 == np.max(fEdep1)], color='grey', lw=0.7, ls='--', zorder=1)\n",
    "plt.hlines(fEdep1[np.nonzero(bEdep1)[0][0]], 1.2, Ep1[np.nonzero(bEdep1)[0][0]], color='grey', lw=0.7, ls='--', zorder=1)\n",
    "plt.xlabel(\"$E_{\\mathrm{p}}$ (MeV)\")\n",
    "plt.ylabel(\"$E_{\\mathrm{dep}}$ (MeV)\")\n",
    "plt.xticks(range(0, 7))\n",
    "plt.xticks(np.arange(0, 7, 0.2), minor=True)\n",
    "plt.yticks(range(0, 7))\n",
    "plt.yticks(np.arange(0, 7, 0.5), minor=True)\n",
    "plt.xlim(-0.2, 5.5)\n",
    "plt.ylim(-0.2, 6.5)\n",
    "plt.legend()\n",
    "plt.savefig('Edep_vs_Ep.pdf', dpi=300, bbox_inches='tight')\n",
    "plt.show()\n",
    "print(\"lower: [\", Ep0[fEdep0 == np.max(fEdep0)][0], \",\", Ep0[np.nonzero(bEdep0)[0][0]], \"]\")\n",
    "print(\"upper: [\", Ep1[fEdep1 == np.max(fEdep1)][0], \",\", Ep0[np.nonzero(bEdep1)[0][0]], \"]\")"
   ]
  },
  {
   "cell_type": "code",
   "execution_count": null,
   "id": "68f35e1d",
   "metadata": {},
   "outputs": [],
   "source": [
    "f = uproot.open(proot+\"/data/bananas2/all.root\")\n",
    "t = f[\"a\"]\n",
    "\n",
    "v0 = np.deg2rad(2)\n",
    "v1 = np.deg2rad(5)\n",
    "v2 = np.deg2rad(33)\n",
    "v3 = np.deg2rad(39)\n",
    "\n",
    "b1 = t.arrays([\"fEdep\", \"bEdep\"], \"(id == 1) & (%f <= angle) & (angle <= %f)\" % (v0, v1))\n",
    "b2 = t.arrays([\"fEdep\", \"bEdep\"], \"(id == 1) & (%f <= angle) & (angle <= %f)\" % (v2, v3))\n",
    "fEdeplow, bEdeplow = rpad(b1.fEdep/1e3, b1.bEdep/1e3)\n",
    "fEdepupp, bEdepupp = rpad(b2.fEdep/1e3, b2.bEdep/1e3)"
   ]
  },
  {
   "cell_type": "code",
   "execution_count": null,
   "id": "44203b2b",
   "metadata": {},
   "outputs": [],
   "source": [
    "print(len(fEdeplow[~np.isnan(fEdeplow)]))\n",
    "print(len(fEdepupp[~np.isnan(fEdepupp)]))"
   ]
  },
  {
   "cell_type": "code",
   "execution_count": null,
   "id": "9b17a13c",
   "metadata": {},
   "outputs": [],
   "source": [
    "scale = 1.3"
   ]
  },
  {
   "cell_type": "code",
   "execution_count": null,
   "id": "ce92a279",
   "metadata": {},
   "outputs": [],
   "source": [
    "plt.rc(\"pdf\", fonttype=42)\n",
    "plt.rc(\"pdf\", fonttype=42)\n",
    "plt.rc(\"axes\", labelsize=scale*20)\n",
    "plt.rc(\"xtick\", labelsize=scale*18, top=True, direction=\"in\")\n",
    "plt.rc(\"ytick\", labelsize=scale*18, right=True, direction=\"in\")\n",
    "plt.rc(\"axes\", titlesize=scale*20)\n",
    "plt.rc(\"legend\", fontsize=18)"
   ]
  },
  {
   "cell_type": "code",
   "execution_count": null,
   "id": "da4c1b2a",
   "metadata": {},
   "outputs": [],
   "source": [
    "plt.figure(figsize=(6.4*scale, 4.8*scale))\n",
    "\n",
    "plt.hlines(fEdep0[bEdep0 > 0][0], -0.2, 2, ls='-', color='k', lw=0.5)\n",
    "plt.hlines(fEdep1[bEdep1 > 0][0], -0.2, 2, ls='-', color='grey', lw=0.5)\n",
    "\n",
    "plt.fill_between([0, bEdep0[bEdep0 > 0][0]*3], 0, np.max(fEdep0), fc='none', ec='k', lw=2, label='$\\Delta E$-contained events$,\\,\\\\theta =%d°$' % round(np.rad2deg(v0)), zorder=10)\n",
    "plt.plot(bEdep0[bEdep0 > 0], fEdep0[bEdep0 > 0], 'k--', lw=3, label='Telescope events$,\\,\\\\theta =%d°$' % round(np.rad2deg(v0)))\n",
    "\n",
    "plt.plot(-1, -1, '.', c='k', ms=12, label='Data for $%d° \\leq \\\\theta \\leq %d°$' % (round(np.rad2deg(v0)), round(np.rad2deg(v1))))\n",
    "\n",
    "plt.fill_between([0, bEdep1[bEdep1 > 0][0]*3], 0, np.max(fEdep1), fc='none', ec='grey', lw=2, label='$\\Delta E$-contained events$,\\,\\\\theta =%d°$' % round(np.rad2deg(v3)), zorder=9)\n",
    "plt.plot(bEdep1[bEdep1 > 0], fEdep1[bEdep1 > 0], ls='--', c='grey', lw=3, label='Telescope events$,\\,\\\\theta =%d°$' % round(np.rad2deg(v3)))\n",
    "\n",
    "plt.plot(-1, -1, '.', c='grey', ms=12, label='Data for $%d° \\leq \\\\theta \\leq %d°$' % (round(np.rad2deg(v2)), round(np.rad2deg(v3))))\n",
    "\n",
    "plt.plot(bEdeplow, fEdeplow, '.', c='k', ms=2, zorder=12, alpha=1)\n",
    "plt.plot(bEdepupp, fEdepupp, '.', c='grey', ms=2, zorder=11, alpha=1)\n",
    "\n",
    "plt.fill_between(bEdep0[bEdep0])\n",
    "\n",
    "plt.xticks(np.arange(0, 8, 1))\n",
    "plt.xticks(np.arange(-0.2, 8, 0.2), minor=True)\n",
    "plt.yticks(np.arange(0, 4, 1))\n",
    "plt.yticks(np.arange(-0.5, 3.5, 0.1), minor=True)\n",
    "plt.ylim(-0.1, 3.1)\n",
    "plt.xlim(-0.2, 7.8)\n",
    "plt.xlabel(\"$E_{\\mathrm{dep}}^{E}$ (MeV)\")\n",
    "plt.ylabel(\"$E_{\\mathrm{dep}}^{\\Delta E}$ (MeV)\")\n",
    "leg = plt.legend(framealpha=1, bbox_to_anchor=(0.5, 0.45))\n",
    "leg.set_zorder(20)\n",
    "plt.savefig('Edep_vs_Edep.pdf', bbox_inches='tight')\n",
    "plt.show()"
   ]
  },
  {
   "cell_type": "code",
   "execution_count": null,
   "id": "b1f0e768",
   "metadata": {},
   "outputs": [],
   "source": []
  }
 ],
 "metadata": {
  "kernelspec": {
   "display_name": "Python 3 (ipykernel)",
   "language": "python",
   "name": "python3"
  },
  "language_info": {
   "codemirror_mode": {
    "name": "ipython",
    "version": 3
   },
   "file_extension": ".py",
   "mimetype": "text/x-python",
   "name": "python",
   "nbconvert_exporter": "python",
   "pygments_lexer": "ipython3",
   "version": "3.10.10"
  }
 },
 "nbformat": 4,
 "nbformat_minor": 5
}
