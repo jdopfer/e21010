{
 "cells": [
  {
   "cell_type": "code",
   "execution_count": null,
   "id": "ee407155",
   "metadata": {},
   "outputs": [],
   "source": [
    "import uproot\n",
    "import awkward as ak\n",
    "\n",
    "import numpy as np\n",
    "import matplotlib as mpl\n",
    "import matplotlib.pyplot as plt\n",
    "\n",
    "from scipy.optimize import curve_fit\n",
    "\n",
    "scale = 1.3\n",
    "\n",
    "plt.rc(\"pdf\", fonttype=42)\n",
    "plt.rc(\"pdf\", fonttype=42)\n",
    "plt.rc(\"axes\", labelsize=scale*20)\n",
    "plt.rc(\"xtick\", labelsize=scale*16, top=True, direction=\"in\")\n",
    "plt.rc(\"ytick\", labelsize=scale*16, right=True, direction=\"in\")\n",
    "plt.rc(\"axes\", titlesize=scale*20)\n",
    "plt.rc(\"legend\", fontsize=14)\n",
    "\n",
    "import os\n",
    "curdir = os.getcwd()\n",
    "while not os.path.exists(\".projectroot\") and os.getcwd() != os.path.expanduser('~'):\n",
    "    os.chdir(\"..\")\n",
    "try:\n",
    "    proot = open(\".projectroot\").readline()\n",
    "except:\n",
    "    print(\"Could not find file '.projectroot'.\")\n",
    "    print(\"Fallback: Look for the file 'rpad.py' in the current working directory (%s).\" % curdir)\n",
    "    print(\"Fonts in figures might not appear as intended, either.\")\n",
    "os.chdir(curdir)\n",
    "import sys\n",
    "import matplotlib.font_manager as font_manager\n",
    "if len(proot) > 0:\n",
    "    sys.path.append(proot+\"/python\")\n",
    "    font_dir = proot + '/fonts'\n",
    "    font_files = font_manager.findSystemFonts(font_dir)\n",
    "    for f in font_files:\n",
    "        font_manager.FontManager.addfont(font_manager.fontManager, path=f)\n",
    "    plt.rcParams.update({\"font.family\": \"serif\", \"font.serif\": \"Linux Libertine O\", \"font.cursive\": \"Linux Libertine O\", \"font.sans-serif\": \"Linux Libertine O\", \"mathtext.fontset\": \"custom\"})\n",
    "from rpad import rpad\n",
    "\n",
    "os.makedirs(\"tmp\", exist_ok=True)\n",
    "\n",
    "dssds = [\"U3\", \"U4\", \"U5\"]\n",
    "ids = [1, 2, 3]"
   ]
  },
  {
   "cell_type": "code",
   "execution_count": null,
   "id": "583c8de0",
   "metadata": {},
   "outputs": [],
   "source": [
    "def f(v, a, b):\n",
    "    return a*(1 + b*(1 - np.cos(v))/np.cos(v))\n",
    "\n",
    "V = np.linspace(0, np.pi/4, 200)"
   ]
  },
  {
   "cell_type": "code",
   "execution_count": null,
   "id": "a48d4610",
   "metadata": {},
   "outputs": [],
   "source": [
    "v, Edepmax, Eplow, Epupp, Edeplow = np.loadtxt(\"deadarea_U3.dat\", unpack=True)\n",
    "Edepmax /= 1e3\n",
    "Eplow /= 1e3\n",
    "Epupp /= 1e3\n",
    "Edeplow /= 1e3"
   ]
  },
  {
   "cell_type": "code",
   "execution_count": null,
   "id": "6e74b508",
   "metadata": {},
   "outputs": [],
   "source": [
    "resplow = curve_fit(f, v, Eplow, p0=(np.min(Eplow), 1.))\n",
    "respupp = curve_fit(f, v, Epupp, p0=(np.min(Epupp), 1.))"
   ]
  },
  {
   "cell_type": "code",
   "execution_count": null,
   "id": "57e54455",
   "metadata": {},
   "outputs": [],
   "source": [
    "resdeplow = curve_fit(f, v, Edeplow, p0=(np.min(Edeplow), 1.))\n",
    "resdepmax = curve_fit(f, v, Edepmax, p0=(np.min(Edepmax), 1.))"
   ]
  },
  {
   "cell_type": "code",
   "execution_count": null,
   "id": "51c0e1d9",
   "metadata": {},
   "outputs": [],
   "source": [
    "fig, axes = plt.subplots(1, 2, figsize=(2*6.4, 4.8))\n",
    "plt.subplots_adjust(wspace=0.01)\n",
    "plt.sca(axes[0])\n",
    "plt.plot(np.rad2deg(v), Eplow, 'k.', ms=6, label='Punch through tabulation')\n",
    "plt.plot(np.rad2deg(V), f(V, *resplow[0]), 'k-', lw=0.8, label='Punch through parametrisation')\n",
    "plt.plot(np.rad2deg(v), Epupp, 'kx', ms=5, label='Reach through tabulation')\n",
    "plt.plot(np.rad2deg(V), f(V, *respupp[0]), 'k', lw=0.8, ls=(0, (5, 5)), label='Reach through parametrisation')\n",
    "plt.fill_between(np.rad2deg(V), f(V, *resplow[0]), f(V, *respupp[0]), color='whitesmoke')\n",
    "plt.annotate(\"Dead zone\", xy=(1, 2.5), xycoords='data', \n",
    "             xytext=(1, 2.7), textcoords='data', size=16,\n",
    "             arrowprops=dict(arrowstyle=\"->\", connectionstyle=\"angle3,angleA=0,angleB=110\", lw=1.4, mutation_scale=15), \n",
    "             horizontalalignment='left', verticalalignment='center', \n",
    "             bbox=dict(boxstyle='round', fc='whitesmoke'))\n",
    "plt.xlabel('$\\\\theta$ (deg.)')\n",
    "plt.ylabel('$E_{\\mathrm{p}}$ (MeV)')\n",
    "plt.xticks(np.arange(0, 50, 10))\n",
    "plt.xticks(np.arange(0, 50, 5), minor=True)\n",
    "plt.yticks(np.arange(2.2, 3.4, 0.2))\n",
    "plt.yticks(np.arange(2.2, 3.4, 0.05), minor=True)\n",
    "plt.ylim(2.2, 3.2)\n",
    "plt.legend()\n",
    "plt.sca(axes[1])\n",
    "plt.plot(np.rad2deg(v), Edepmax, 'k.', ms=6, label='Punch through tabulation')\n",
    "plt.plot(np.rad2deg(V), f(V, *resdepmax[0]), 'k-', lw=0.8, label='Punch through parametrisation')\n",
    "plt.plot(np.rad2deg(v), Edeplow, 'kx', ms=5, label='Reach through tabulation')\n",
    "plt.plot(np.rad2deg(V), f(V, *resdeplow[0]), 'k', lw=0.8, ls=(0, (5, 5)), label='Reach through parametrisation')\n",
    "plt.fill_between(np.rad2deg(V), f(V, *resdeplow[0]), f(V, *resdepmax[0]), color='whitesmoke')\n",
    "plt.annotate(\"Spurious zone\", xy=(1, 2.4), xycoords='data', \n",
    "             xytext=(1, 2.7), textcoords='data', size=16,\n",
    "             arrowprops=dict(arrowstyle=\"->\", connectionstyle=\"angle3,angleA=0,angleB=110\", lw=1.4, mutation_scale=15), \n",
    "             horizontalalignment='left', verticalalignment='center', \n",
    "             bbox=dict(boxstyle='round', fc='whitesmoke'))\n",
    "plt.xlabel('$\\\\theta$ (deg.)')\n",
    "plt.ylabel('$E_{\\mathrm{dep}}$ (MeV)')\n",
    "axes[1].yaxis.tick_right()\n",
    "axes[1].yaxis.set_ticks_position('both')\n",
    "axes[1].yaxis.set_label_position(\"right\")\n",
    "plt.xticks(np.arange(0, 50, 10))\n",
    "plt.xticks(np.arange(0, 50, 5), minor=True)\n",
    "plt.yticks(np.arange(2.2, 3.4, 0.2))\n",
    "plt.yticks(np.arange(2.2, 3.4, 0.05), minor=True)\n",
    "plt.ylim(2.2, 3.2)\n",
    "plt.legend()\n",
    "plt.savefig('Ep_vs_angle_and_Edep_vs_angle.pdf', bbox_inches='tight')\n",
    "plt.show()\n",
    "print(\"Dead zone minimum    :\", np.min(Eplow))\n",
    "print(\"Dead zone maximum    :\", np.max(Epupp))\n",
    "print(\"Spurious zone minimum:\", np.min(Edeplow))\n",
    "print(\"Spurious zone maximum:\", np.max(Edepmax))"
   ]
  },
  {
   "cell_type": "code",
   "execution_count": null,
   "id": "58c85ce2",
   "metadata": {},
   "outputs": [],
   "source": []
  },
  {
   "cell_type": "code",
   "execution_count": null,
   "id": "f6981fea",
   "metadata": {},
   "outputs": [],
   "source": []
  },
  {
   "cell_type": "code",
   "execution_count": null,
   "id": "ed2ebaad",
   "metadata": {},
   "outputs": [],
   "source": [
    "v, Edepmax, Eplow, Epupp, Edeplow = np.loadtxt(\"deadarea_U4.dat\", unpack=True)\n",
    "Edepmax /= 1e3\n",
    "Eplow /= 1e3\n",
    "Epupp /= 1e3\n",
    "Edeplow /= 1e3"
   ]
  },
  {
   "cell_type": "code",
   "execution_count": null,
   "id": "2ed131e7",
   "metadata": {},
   "outputs": [],
   "source": [
    "resplow = curve_fit(f, v, Eplow, p0=(np.min(Eplow), 1.))\n",
    "respupp = curve_fit(f, v, Epupp, p0=(np.min(Epupp), 1.))"
   ]
  },
  {
   "cell_type": "code",
   "execution_count": null,
   "id": "22cacfb8",
   "metadata": {},
   "outputs": [],
   "source": [
    "resdeplow = curve_fit(f, v, Edeplow, p0=(np.min(Edeplow), 1.))\n",
    "resdepmax = curve_fit(f, v, Edepmax, p0=(np.min(Edepmax), 1.))"
   ]
  },
  {
   "cell_type": "code",
   "execution_count": null,
   "id": "3fbc9498",
   "metadata": {},
   "outputs": [],
   "source": [
    "fig, axes = plt.subplots(1, 2, figsize=(2*6.4, 4.8), sharey=True)\n",
    "plt.subplots_adjust(wspace=0.01)\n",
    "plt.sca(axes[0])\n",
    "plt.plot(np.rad2deg(v), Eplow, 'k.', ms=6, label='Punch through tabulation')\n",
    "plt.plot(np.rad2deg(V), f(V, *resplow[0]), 'k-', lw=0.8, label='Punch through parametrisation')\n",
    "plt.plot(np.rad2deg(v), Epupp, 'kx', ms=5, label='Reach through tabulation')\n",
    "plt.plot(np.rad2deg(V), f(V, *respupp[0]), 'k', lw=0.8, ls=(0, (5, 5)), label='Reach through parametrisation')\n",
    "plt.fill_between(np.rad2deg(V), f(V, *resplow[0]), f(V, *respupp[0]), color='whitesmoke')\n",
    "plt.xlabel('$\\\\theta$ (deg.)')\n",
    "plt.ylabel('$E_{\\mathrm{p}}$ (MeV)')\n",
    "#plt.xticks(np.arange(0, 50, 10))\n",
    "#plt.xticks(np.arange(0, 50, 5), minor=True)\n",
    "#plt.yticks(np.arange(2.2, 3.4, 0.2))\n",
    "#plt.yticks(np.arange(2.2, 3.4, 0.05), minor=True)\n",
    "#plt.ylim(2.2, 3.2)\n",
    "plt.legend()\n",
    "plt.sca(axes[1])\n",
    "plt.plot(np.rad2deg(v), Edepmax, 'k.', ms=6, label='Punch through tabulation')\n",
    "plt.plot(np.rad2deg(V), f(V, *resdepmax[0]), 'k-', lw=0.8, label='Punch through parametrisation')\n",
    "plt.plot(np.rad2deg(v), Edeplow, 'kx', ms=5, label='Reach through tabulation')\n",
    "plt.plot(np.rad2deg(V), f(V, *resdeplow[0]), 'k', lw=0.8, ls=(0, (5, 5)), label='Reach through parametrisation')\n",
    "plt.fill_between(np.rad2deg(V), f(V, *resdeplow[0]), f(V, *resdepmax[0]), color='whitesmoke')\n",
    "plt.xlabel('$\\\\theta$ (deg.)')\n",
    "plt.ylabel('$E_{\\mathrm{dep}}$ (MeV)')\n",
    "axes[1].yaxis.tick_right()\n",
    "axes[1].yaxis.set_ticks_position('both')\n",
    "axes[1].yaxis.set_label_position(\"right\")\n",
    "plt.xticks(np.arange(0, 50, 10))\n",
    "plt.xticks(np.arange(0, 50, 5), minor=True)\n",
    "#plt.yticks(np.arange(2.2, 3.4, 0.2))\n",
    "#plt.yticks(np.arange(2.2, 3.4, 0.05), minor=True)\n",
    "#plt.ylim(2.2, 3.2)\n",
    "plt.legend()\n",
    "#plt.savefig('Ep_vs_angle_and_Edep_vs_angle.pdf', bbox_inches='tight')\n",
    "plt.show()\n",
    "print(\"Dead zone minimum    :\", np.min(Eplow))\n",
    "print(\"Dead zone maximum    :\", np.max(Epupp))\n",
    "print(\"Spurious zone minimum:\", np.min(Edeplow))\n",
    "print(\"Spurious zone maximum:\", np.max(Edepmax))"
   ]
  },
  {
   "cell_type": "code",
   "execution_count": null,
   "id": "897becf3",
   "metadata": {},
   "outputs": [],
   "source": []
  },
  {
   "cell_type": "code",
   "execution_count": null,
   "id": "59c0c427",
   "metadata": {},
   "outputs": [],
   "source": []
  },
  {
   "cell_type": "code",
   "execution_count": null,
   "id": "9b1e1d0a",
   "metadata": {},
   "outputs": [],
   "source": [
    "v, Edepmax, Eplow, Epupp, Edeplow = np.loadtxt(\"deadarea_U4_33um.dat\", unpack=True)\n",
    "Edepmax /= 1e3\n",
    "Eplow /= 1e3\n",
    "Epupp /= 1e3\n",
    "Edeplow /= 1e3"
   ]
  },
  {
   "cell_type": "code",
   "execution_count": null,
   "id": "2b2a796d",
   "metadata": {},
   "outputs": [],
   "source": [
    "resplow = curve_fit(f, v, Eplow, p0=(np.min(Eplow), 1.))\n",
    "respupp = curve_fit(f, v, Epupp, p0=(np.min(Epupp), 1.))"
   ]
  },
  {
   "cell_type": "code",
   "execution_count": null,
   "id": "39dd8f10",
   "metadata": {},
   "outputs": [],
   "source": [
    "resdeplow = curve_fit(f, v, Edeplow, p0=(np.min(Edeplow), 1.))\n",
    "resdepmax = curve_fit(f, v, Edepmax, p0=(np.min(Edepmax), 1.))"
   ]
  },
  {
   "cell_type": "code",
   "execution_count": null,
   "id": "c90c5b3b",
   "metadata": {},
   "outputs": [],
   "source": [
    "fig, axes = plt.subplots(1, 2, figsize=(2*6.4, 4.8), sharey=True)\n",
    "plt.subplots_adjust(wspace=0.01)\n",
    "plt.sca(axes[0])\n",
    "plt.plot(np.rad2deg(v), Eplow, 'k.', ms=6, label='Punch through tabulation')\n",
    "plt.plot(np.rad2deg(V), f(V, *resplow[0]), 'k-', lw=0.8, label='Punch through parametrisation')\n",
    "plt.plot(np.rad2deg(v), Epupp, 'kx', ms=5, label='Reach through tabulation')\n",
    "plt.plot(np.rad2deg(V), f(V, *respupp[0]), 'k', lw=0.8, ls=(0, (5, 5)), label='Reach through parametrisation')\n",
    "plt.fill_between(np.rad2deg(V), f(V, *resplow[0]), f(V, *respupp[0]), color='whitesmoke')\n",
    "plt.xlabel('$\\\\theta$ (deg.)')\n",
    "plt.ylabel('$E_{\\mathrm{p}}$ (MeV)')\n",
    "#plt.xticks(np.arange(0, 50, 10))\n",
    "#plt.xticks(np.arange(0, 50, 5), minor=True)\n",
    "#plt.yticks(np.arange(2.2, 3.4, 0.2))\n",
    "#plt.yticks(np.arange(2.2, 3.4, 0.05), minor=True)\n",
    "#plt.ylim(2.2, 3.2)\n",
    "plt.legend()\n",
    "plt.sca(axes[1])\n",
    "plt.plot(np.rad2deg(v), Edepmax, 'k.', ms=6, label='Punch through tabulation')\n",
    "plt.plot(np.rad2deg(V), f(V, *resdepmax[0]), 'k-', lw=0.8, label='Punch through parametrisation')\n",
    "plt.plot(np.rad2deg(v), Edeplow, 'kx', ms=5, label='Reach through tabulation')\n",
    "plt.plot(np.rad2deg(V), f(V, *resdeplow[0]), 'k', lw=0.8, ls=(0, (5, 5)), label='Reach through parametrisation')\n",
    "plt.fill_between(np.rad2deg(V), f(V, *resdeplow[0]), f(V, *resdepmax[0]), color='whitesmoke')\n",
    "plt.xlabel('$\\\\theta$ (deg.)')\n",
    "plt.ylabel('$E_{\\mathrm{dep}}$ (MeV)')\n",
    "axes[1].yaxis.tick_right()\n",
    "axes[1].yaxis.set_ticks_position('both')\n",
    "axes[1].yaxis.set_label_position(\"right\")\n",
    "plt.xticks(np.arange(0, 50, 10))\n",
    "plt.xticks(np.arange(0, 50, 5), minor=True)\n",
    "#plt.yticks(np.arange(2.2, 3.4, 0.2))\n",
    "#plt.yticks(np.arange(2.2, 3.4, 0.05), minor=True)\n",
    "#plt.ylim(2.2, 3.2)\n",
    "plt.legend()\n",
    "#plt.savefig('Ep_vs_angle_and_Edep_vs_angle.pdf', bbox_inches='tight')\n",
    "plt.show()\n",
    "print(\"Dead zone minimum    :\", np.min(Eplow))\n",
    "print(\"Dead zone maximum    :\", np.max(Epupp))\n",
    "print(\"Spurious zone minimum:\", np.min(Edeplow))\n",
    "print(\"Spurious zone maximum:\", np.max(Edepmax))"
   ]
  },
  {
   "cell_type": "code",
   "execution_count": null,
   "id": "ddfa1a18",
   "metadata": {},
   "outputs": [],
   "source": []
  },
  {
   "cell_type": "code",
   "execution_count": null,
   "id": "5d2d6b2c",
   "metadata": {},
   "outputs": [],
   "source": []
  }
 ],
 "metadata": {
  "kernelspec": {
   "display_name": "Python 3 (ipykernel)",
   "language": "python",
   "name": "python3"
  },
  "language_info": {
   "codemirror_mode": {
    "name": "ipython",
    "version": 3
   },
   "file_extension": ".py",
   "mimetype": "text/x-python",
   "name": "python",
   "nbconvert_exporter": "python",
   "pygments_lexer": "ipython3",
   "version": "3.10.10"
  }
 },
 "nbformat": 4,
 "nbformat_minor": 5
}
