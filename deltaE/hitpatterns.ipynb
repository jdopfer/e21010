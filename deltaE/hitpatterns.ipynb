{
 "cells": [
  {
   "cell_type": "code",
   "execution_count": null,
   "id": "ee407155",
   "metadata": {},
   "outputs": [],
   "source": [
    "import uproot\n",
    "import awkward as ak\n",
    "\n",
    "import numpy as np\n",
    "import matplotlib as mpl\n",
    "import matplotlib.pyplot as plt\n",
    "\n",
    "import pypdftk\n",
    "\n",
    "plt.rc(\"pdf\", fonttype=42)\n",
    "plt.rc(\"pdf\", fonttype=42)\n",
    "plt.rc(\"axes\", labelsize=20)\n",
    "plt.rc(\"xtick\", labelsize=16, top=True, direction=\"in\")\n",
    "plt.rc(\"ytick\", labelsize=16, right=True, direction=\"in\")\n",
    "plt.rc(\"axes\", titlesize=20)\n",
    "plt.rc(\"legend\", fontsize=16)\n",
    "\n",
    "import os\n",
    "curdir = os.getcwd()\n",
    "while not os.path.exists(\".projectroot\") and os.getcwd() != os.path.expanduser('~'):\n",
    "    os.chdir(\"..\")\n",
    "try:\n",
    "    proot = open(\".projectroot\").readline()\n",
    "except:\n",
    "    print(\"Could not find file '.projectroot'\")\n",
    "    print(\"Fallback: Look for the file 'rpad.py' in the current working directory (%s)\" % curdir)\n",
    "os.chdir(curdir)\n",
    "import sys\n",
    "if len(proot) > 0:\n",
    "    sys.path.append(proot+\"/python\")\n",
    "from rpad import rpad\n",
    "\n",
    "os.makedirs(\"tmp\", exist_ok=True)\n",
    "\n",
    "dssds = [\"U3\", \"U4\", \"U5\"]\n",
    "ids = [1, 2, 3]"
   ]
  },
  {
   "cell_type": "code",
   "execution_count": null,
   "id": "1eeea880",
   "metadata": {},
   "outputs": [],
   "source": [
    "f = uproot.open(proot+\"/data/deltaEcontained/all.root\")\n",
    "t = f[\"a\"]\n",
    "b1 = t.arrays([\"E\"], \"id == 1\")\n",
    "b2 = t.arrays([\"E\"], \"(id == 1) & (2 <= FI) & (FI <= 15) & (2 <= BI) & (BI <= 15)\")\n",
    "b3 = t.arrays([\"E\"], \"id == 2\")\n",
    "b4 = t.arrays([\"E\"], \"(id == 2) & (2 <= FI) & (FI <= 15) & (2 <= BI) & (BI <= 15)\")"
   ]
  },
  {
   "cell_type": "code",
   "execution_count": null,
   "id": "618ff9f9",
   "metadata": {},
   "outputs": [],
   "source": [
    "regions = np.array([[\"beta\", 450], [\"hump\", 770], [\"peak1\", 950], [\"valley1\", 1010], [\"peak2\", 1080], \n",
    "           [\"valley2\", 1180], [\"peak3\", 1290], [\"valley3\", 1330], [\"peak4\", 1380], \n",
    "           [\"valley4\", 1430], [\"peak5\", 1510], [\"spurious\", 1700], [\"peak6\", 1810], \n",
    "           [\"valley6\", 1880], [\"peak7\", 2010]])\n",
    "\n",
    "plt.figure(figsize=(10, 7))\n",
    "plt.hist(ak.flatten(b1.E), bins=np.arange(0, 3000, 5), log=True, histtype='step', label='U3 w/ rim')\n",
    "plt.hist(ak.flatten(b2.E), bins=np.arange(0, 3000, 5), log=True, histtype='step', label='U3 w/o rim')\n",
    "plt.hist(ak.flatten(b3.E), bins=np.arange(0, 3000, 5), log=True, histtype='step', label='U4 w rim')\n",
    "plt.hist(1.005*ak.flatten(b4.E), bins=np.arange(0, 3000, 5), log=True, histtype='step', label='U4 w/o rim')\n",
    "plt.grid()\n",
    "plt.vlines(regions[:,1].astype(float), 0, 1e4, lw=1, color='k')\n",
    "plt.legend()\n",
    "plt.savefig(\"deltaEcontained-spec.pdf\", bbox_inches='tight')\n",
    "plt.show()"
   ]
  },
  {
   "cell_type": "code",
   "execution_count": null,
   "id": "4263874e",
   "metadata": {
    "scrolled": false
   },
   "outputs": [],
   "source": [
    "fignames = []\n",
    "for i in range(len(regions)):\n",
    "    if i == 0:\n",
    "        lower = 0.\n",
    "    else:\n",
    "        lower = float(regions[i - 1, 1])\n",
    "    upper = float(regions[i, 1])\n",
    "    name = regions[i, 0]\n",
    "    energycut = \"(%f <= E) & (E <= %f)\" % (0, 500)\n",
    "    b1 = t.arrays([\"FI\", \"BI\"], \"(id == 1) & (2 <= FI) & (FI <= 15) & (2 <= BI) & (BI <= 15) & (%f <= E) & (E <= %f)\" % (lower, upper))\n",
    "    b2 = t.arrays([\"FI\", \"BI\"], \"(id == 2) & (2 <= FI) & (FI <= 15) & (2 <= BI) & (BI <= 15) & (%f <= E) & (E <= %f)\" % (lower, upper))\n",
    "    x1, y1 = rpad(b1.FI, b1.BI)\n",
    "    x2, y2 = rpad(b2.FI, b2.BI)\n",
    "    fig, axes = plt.subplots(1, 2, figsize=(14, 5))\n",
    "    plt.sca(axes[0])\n",
    "    plt.hist2d(x1 - 0.5, y1 - 0.5, bins=(np.arange(0.5, 17.5, 1), np.arange(0.5, 17.5, 1)), norm=mpl.colors.LogNorm())\n",
    "    plt.gca().invert_yaxis()\n",
    "    plt.xlabel('Front strip')\n",
    "    plt.ylabel('Back strip')\n",
    "    plt.xticks(range(2, 16+2, 2))\n",
    "    plt.yticks(range(2, 16+2, 2))\n",
    "    plt.title(\"U3 - region: %s\" % name)\n",
    "    if len(x1[~np.isnan(x1)]) > 0: \n",
    "        cbar = plt.colorbar()\n",
    "    plt.sca(axes[1])\n",
    "    plt.hist2d(x2 - 0.5, y2 - 0.5, bins=(np.arange(0.5, 17.5, 1), np.arange(0.5, 17.5, 1)), norm=mpl.colors.LogNorm())\n",
    "    plt.gca().invert_yaxis()\n",
    "    plt.xlabel('Front strip')\n",
    "    plt.ylabel('Back strip')\n",
    "    plt.xticks(range(2, 16+2, 2))\n",
    "    plt.yticks(range(2, 16+2, 2))\n",
    "    plt.title(\"U4 - region: %s\" % name)\n",
    "    if len(x2[~np.isnan(x2)]) > 0: \n",
    "        cbar = plt.colorbar()\n",
    "    figname = 'tmp/%s.pdf' % name\n",
    "    fignames.append(figname)\n",
    "    plt.savefig(figname, bbox_inches='tight')\n",
    "    plt.show()\n",
    "pypdftk.concat(fignames, out_file='hitpattern.pdf')"
   ]
  },
  {
   "cell_type": "code",
   "execution_count": null,
   "id": "c93d42ae",
   "metadata": {},
   "outputs": [],
   "source": []
  },
  {
   "cell_type": "code",
   "execution_count": null,
   "id": "50fb0119",
   "metadata": {},
   "outputs": [],
   "source": [
    "f.close()"
   ]
  },
  {
   "cell_type": "code",
   "execution_count": null,
   "id": "39ee57bb",
   "metadata": {},
   "outputs": [],
   "source": []
  }
 ],
 "metadata": {
  "kernelspec": {
   "display_name": "Python 3 (ipykernel)",
   "language": "python",
   "name": "python3"
  },
  "language_info": {
   "codemirror_mode": {
    "name": "ipython",
    "version": 3
   },
   "file_extension": ".py",
   "mimetype": "text/x-python",
   "name": "python",
   "nbconvert_exporter": "python",
   "pygments_lexer": "ipython3",
   "version": "3.10.10"
  }
 },
 "nbformat": 4,
 "nbformat_minor": 5
}
