{
 "cells": [
  {
   "cell_type": "code",
   "execution_count": null,
   "id": "ee407155",
   "metadata": {},
   "outputs": [],
   "source": [
    "import uproot\n",
    "import awkward as ak\n",
    "\n",
    "import numpy as np\n",
    "import matplotlib as mpl\n",
    "import matplotlib.pyplot as plt\n",
    "\n",
    "from scipy.optimize import curve_fit\n",
    "\n",
    "scale = 1.4\n",
    "\n",
    "plt.rc(\"pdf\", fonttype=42)\n",
    "plt.rc(\"pdf\", fonttype=42)\n",
    "plt.rc(\"axes\", labelsize=scale*20)\n",
    "plt.rc(\"xtick\", labelsize=scale*16, top=True, direction=\"in\")\n",
    "plt.rc(\"ytick\", labelsize=scale*16, right=True, direction=\"in\")\n",
    "plt.rc(\"axes\", titlesize=scale*20)\n",
    "plt.rc(\"legend\", fontsize=16, title_fontsize=16)\n",
    "\n",
    "import os\n",
    "curdir = os.getcwd()\n",
    "while not os.path.exists(\".projectroot\") and os.getcwd() != os.path.expanduser('~'):\n",
    "    os.chdir(\"..\")\n",
    "try:\n",
    "    proot = open(\".projectroot\").readline()\n",
    "except:\n",
    "    print(\"Could not find file '.projectroot'.\")\n",
    "    print(\"Fallback: Look for the file 'rpad.py' in the current working directory (%s).\" % curdir)\n",
    "    print(\"Fonts in figures might not appear as intended, either.\")\n",
    "os.chdir(curdir)\n",
    "import sys\n",
    "import matplotlib.font_manager as font_manager\n",
    "if len(proot) > 0:\n",
    "    sys.path.append(proot+\"/python\")\n",
    "    font_dir = proot + '/fonts'\n",
    "    font_files = font_manager.findSystemFonts(font_dir)\n",
    "    for f in font_files:\n",
    "        font_manager.FontManager.addfont(font_manager.fontManager, path=f)\n",
    "    plt.rcParams.update({\"font.family\": \"serif\", \"font.serif\": \"Linux Libertine O\", \"font.cursive\": \"Linux Libertine O\", \"font.sans-serif\": \"Linux Libertine O\", \"mathtext.fontset\": \"custom\"})\n",
    "from rpad import rpad\n",
    "\n",
    "os.makedirs(\"tmp\", exist_ok=True)\n",
    "\n",
    "dssds = [\"U3\", \"U4\", \"U5\"]\n",
    "ids = [1, 2, 3]"
   ]
  },
  {
   "cell_type": "code",
   "execution_count": null,
   "id": "583c8de0",
   "metadata": {},
   "outputs": [],
   "source": [
    "def f(v, a, b):\n",
    "    return a*(1 + b*(1 - np.cos(v))/np.cos(v))\n",
    "\n",
    "V = np.linspace(0, np.pi/4, 200)"
   ]
  },
  {
   "cell_type": "code",
   "execution_count": null,
   "id": "a48d4610",
   "metadata": {},
   "outputs": [],
   "source": [
    "t, v, Emax = np.loadtxt(\"thickness_from_punchthrough_U3.dat\", unpack=True)\n",
    "Emax /= 1e3"
   ]
  },
  {
   "cell_type": "code",
   "execution_count": null,
   "id": "6e74b508",
   "metadata": {},
   "outputs": [],
   "source": [
    "ts = np.unique(t)\n",
    "ps = []\n",
    "for x in ts:\n",
    "    res = curve_fit(f, v[t == x], Emax[t == x], p0=(np.min(Emax[t == x]), 1.))\n",
    "    ps.append(res[0])\n",
    "print(ts)"
   ]
  },
  {
   "cell_type": "code",
   "execution_count": null,
   "id": "1eeea880",
   "metadata": {},
   "outputs": [],
   "source": [
    "file = uproot.open(proot+\"/data/bananas/all.root\")\n",
    "tree = file[\"a\"]\n",
    "b1 = tree.arrays([\"fEdep\", \"angle\"], \"id == 1\")\n",
    "# b2 = tree.arrays([\"Edep\", \"angle\"], \"id == 1\")\n",
    "x1, y1 = rpad(b1.angle, b1.fEdep)\n",
    "# x2, y2 = rpad(b2.angle, b2.Edep)\n",
    "\n",
    "# angle = np.append(x1, x2)\n",
    "# angle = np.rad2deg(angle)\n",
    "angle = np.rad2deg(x1)\n",
    "# Edep  = np.append(y1, y2)\n",
    "# Edep /= 1e3\n",
    "Edep  = y1/1e3\n",
    "\n",
    "# Initially wanted to plot ALL deposited energies in Delta-E-detector, including the ones without a hit in the \n",
    "# corresponding E-detector, but for illustrative purposes, it is better not to include these"
   ]
  },
  {
   "cell_type": "code",
   "execution_count": null,
   "id": "42fb16d1",
   "metadata": {
    "scrolled": false
   },
   "outputs": [],
   "source": [
    "#plt.figure(figsize=(14,8))\n",
    "plt.figure(figsize=(scale*6.4, scale*4.8))\n",
    "plt.hist2d(angle, Edep, bins=(np.arange(-5, 50, 1), np.arange(0, 3., 0.01)), \n",
    "           cmap=plt.cm.Greys, norm=mpl.colors.LogNorm())\n",
    "cbar = plt.colorbar()\n",
    "cbar.ax.set_ylabel('Counts / (1 deg. $\\\\times$ 10 keV)')\n",
    "plt.plot(np.rad2deg(V), f(V, *ps[6]), 'k--', label='67 µm')\n",
    "#plt.plot(np.rad2deg(V), f(V, *ps[5]), 'k-.', label='65 µm')\n",
    "plt.plot(np.rad2deg(V), f(V, *ps[3]), 'k-.', label='60 µm')\n",
    "# for i in range(len(ps)):\n",
    "#     plt.plot(np.rad2deg(V), f(V, *ps[i]), 'k--')\n",
    "plt.xlim(-10, 50)\n",
    "plt.ylim(0, 3.2)\n",
    "plt.gca().set_yticks(np.arange(0.1, 3.2, 0.1), minor=True)\n",
    "plt.gca().set_xticks(np.arange(0, 50, 10))\n",
    "#plt.grid(which='both')\n",
    "plt.annotate(\"$\\Delta E$-contained\\nevents\", xy=(41, 1.930), xycoords='data', \n",
    "             xytext=(46, 2.250), textcoords='data', size=14,\n",
    "             arrowprops=dict(arrowstyle=\"->\", connectionstyle=\"angle,angleA=-92,angleB=180,rad=5\", lw=1.2, mutation_scale=14), \n",
    "             horizontalalignment='center', verticalalignment='center', \n",
    "             bbox=dict(boxstyle='round', fc='white'))\n",
    "plt.annotate(\"$\\Delta E$-contained\\nevents\", xy=(41, 1.770), xycoords='data', \n",
    "             xytext=(46, 2.250), textcoords='data', size=14,\n",
    "             arrowprops=dict(arrowstyle=\"->\", connectionstyle=\"angle,angleA=-88,angleB=180,rad=5\", lw=1.2, mutation_scale=14), \n",
    "             horizontalalignment='center', verticalalignment='center', \n",
    "             bbox=dict(boxstyle='round', fc='white', alpha=0.), alpha=0.)\n",
    "plt.annotate(\"Punch\\nthrough events\", xy=(1, 0.850), xycoords='data', \n",
    "             xytext=(-2.5, 0.500), textcoords='data', size=14,\n",
    "             arrowprops=dict(arrowstyle=\"->\", connectionstyle=\"angle,angleA=-92,angleB=180,rad=5\", lw=1.2, mutation_scale=14), \n",
    "             horizontalalignment='center', verticalalignment='center', \n",
    "             bbox=dict(boxstyle='round', fc='white'))\n",
    "plt.annotate(\"Punch\\nthrough events\", xy=(1, 1.050), xycoords='data', \n",
    "             xytext=(-2.5, 0.500), textcoords='data', size=14,\n",
    "             arrowprops=dict(arrowstyle=\"->\", connectionstyle=\"angle,angleA=-88,angleB=180,rad=5\", lw=1.2, mutation_scale=14), \n",
    "             horizontalalignment='center', verticalalignment='center', \n",
    "             bbox=dict(boxstyle='round', fc='white', alpha=0.), alpha=0.)\n",
    "plt.annotate(\"Beta\\nbackground\", xy=(38, 0.300), xycoords='data', \n",
    "             xytext=(47, 0.650), textcoords='data', size=14,\n",
    "             arrowprops=dict(arrowstyle=\"->\", lw=1.2, mutation_scale=14), \n",
    "             horizontalalignment='center', verticalalignment='center', \n",
    "             bbox=dict(boxstyle='round', fc='white'))\n",
    "plt.xlabel('$\\\\theta$ (deg.)')\n",
    "plt.ylabel('$E_{\\mathrm{dep}}$ (MeV)')\n",
    "plt.text(-6.7, 2.8, \"Punch through thresholds\\nfor $\\Delta E$ thicknesses:\", fontsize=16, ha='left', va='center')\n",
    "plt.text(-0.5, np.min(f(V, *ps[6])), \"67 µm\", fontsize=16, ha='right', va='center')\n",
    "plt.text(-0.5, np.min(f(V, *ps[3])), \"60 µm\", fontsize=16, ha='right', va='center')\n",
    "#plt.legend(title='Punch through thresholds\\nfor $\\Delta E$ thicknesses:', loc='upper left', alignment='left', framealpha=1)\n",
    "plt.savefig('Edep_vs_angle.pdf', bbox_inches='tight')\n",
    "plt.show()"
   ]
  },
  {
   "cell_type": "code",
   "execution_count": null,
   "id": "50fb0119",
   "metadata": {},
   "outputs": [],
   "source": [
    "file.close()"
   ]
  },
  {
   "cell_type": "code",
   "execution_count": null,
   "id": "68f35e1d",
   "metadata": {},
   "outputs": [],
   "source": []
  }
 ],
 "metadata": {
  "kernelspec": {
   "display_name": "Python 3 (ipykernel)",
   "language": "python",
   "name": "python3"
  },
  "language_info": {
   "codemirror_mode": {
    "name": "ipython",
    "version": 3
   },
   "file_extension": ".py",
   "mimetype": "text/x-python",
   "name": "python",
   "nbconvert_exporter": "python",
   "pygments_lexer": "ipython3",
   "version": "3.10.10"
  }
 },
 "nbformat": 4,
 "nbformat_minor": 5
}
