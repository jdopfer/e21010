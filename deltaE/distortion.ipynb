{
 "cells": [
  {
   "cell_type": "code",
   "execution_count": null,
   "id": "ee407155",
   "metadata": {},
   "outputs": [],
   "source": [
    "import uproot\n",
    "import awkward as ak\n",
    "\n",
    "import numpy as np\n",
    "import matplotlib as mpl\n",
    "import matplotlib.pyplot as plt\n",
    "\n",
    "scale=1.25\n",
    "\n",
    "plt.rc(\"pdf\", fonttype=42)\n",
    "plt.rc(\"pdf\", fonttype=42)\n",
    "plt.rc(\"axes\", labelsize=0.9*scale*20)\n",
    "plt.rc(\"xtick\", labelsize=scale*16, top=True, direction=\"in\")\n",
    "plt.rc(\"ytick\", labelsize=scale*16, right=True, direction=\"in\")\n",
    "plt.rc(\"axes\", titlesize=scale*20)\n",
    "plt.rc(\"legend\", fontsize=14)\n",
    "\n",
    "import os\n",
    "curdir = os.getcwd()\n",
    "while not os.path.exists(\".projectroot\") and os.getcwd() != os.path.expanduser('~'):\n",
    "    os.chdir(\"..\")\n",
    "try:\n",
    "    proot = open(\".projectroot\").readline()\n",
    "except:\n",
    "    print(\"Could not find file '.projectroot'.\")\n",
    "    print(\"Fallback: Look for the file 'rpad.py' in the current working directory (%s).\" % curdir)\n",
    "    print(\"Fonts in figures might not appear as intended, either.\")\n",
    "os.chdir(curdir)\n",
    "import sys\n",
    "import matplotlib.font_manager as font_manager\n",
    "if len(proot) > 0:\n",
    "    sys.path.append(proot+\"/python\")\n",
    "    font_dir = proot + '/fonts'\n",
    "    font_files = font_manager.findSystemFonts(font_dir)\n",
    "    for f in font_files:\n",
    "        font_manager.FontManager.addfont(font_manager.fontManager, path=f)\n",
    "    plt.rcParams.update({\"font.family\": \"serif\", \"font.serif\": \"Linux Libertine O\", \"font.cursive\": \"Linux Libertine O\", \"font.sans-serif\": \"Linux Libertine O\", \"mathtext.fontset\": \"custom\"})\n",
    "from rpad import rpad\n",
    "\n",
    "os.makedirs(\"tmp\", exist_ok=True)\n",
    "\n",
    "dssds = [\"U3\", \"U4\", \"U5\"]\n",
    "ids = [1, 2, 3]"
   ]
  },
  {
   "cell_type": "code",
   "execution_count": null,
   "id": "cdb32653",
   "metadata": {},
   "outputs": [],
   "source": [
    "plt.figure(figsize=(6, 6))\n",
    "srU3 = np.loadtxt('solid_angle_matrix_U3.dat')\n",
    "im = plt.imshow(100*np.transpose(srU3)/(4*np.pi), extent=[0.5, 16.5, 16.5, 0.5], vmin=0., cmap=plt.cm.gray)\n",
    "cbar = plt.colorbar(im, fraction=0.046, pad=0.04)\n",
    "cbar.ax.set_ylabel('\\nSolid angle per pixel (% of 4π)')\n",
    "cbar.ax.tick_params(length=6, color='w')\n",
    "tckmaj = np.arange(4, 17, 4)\n",
    "tckmin = np.arange(2, 17, 2)\n",
    "plt.gca().set_xticks(tckmaj)\n",
    "plt.gca().set_xticks(tckmin, minor=True)\n",
    "plt.gca().set_yticks(tckmaj)\n",
    "plt.gca().set_yticks(tckmin, minor=True)\n",
    "plt.gca().tick_params(which='major', length=6, color='w')\n",
    "plt.gca().tick_params(which='minor', length=3, color='w')\n",
    "plt.xlabel('Front/p-side strips')\n",
    "plt.ylabel('Rear/n-side strips')\n",
    "#plt.savefig('solid_angle_by_pixelU3.png', bbox_inches='tight')\n",
    "plt.show()"
   ]
  },
  {
   "cell_type": "code",
   "execution_count": null,
   "id": "1eeea880",
   "metadata": {},
   "outputs": [],
   "source": [
    "f = uproot.open(proot+\"/data/deltaEcontained/all.root\")\n",
    "t = f[\"a\"]"
   ]
  },
  {
   "cell_type": "code",
   "execution_count": null,
   "id": "e906f947",
   "metadata": {},
   "outputs": [],
   "source": [
    "cut16 = \"(id == 1) & (500 <= E)\"\n",
    "cut14 = cut16 + \" & (2 <= FI) & (FI <= 15) & (2 <= BI) & (BI <= 15)\"\n",
    "cut12 = cut16 + \" & (3 <= FI) & (FI <= 14) & (3 <= BI) & (BI <= 14)\"\n",
    "cut10 = cut16 + \" & (4 <= FI) & (FI <= 13) & (4 <= BI) & (BI <= 13)\"\n",
    "cut08 = cut16 + \" & (5 <= FI) & (FI <= 12) & (5 <= BI) & (BI <= 12)\"\n",
    "cut06 = cut16 + \" & (6 <= FI) & (FI <= 11) & (6 <= BI) & (BI <= 11)\"\n",
    "cut04 = cut16 + \" & (7 <= FI) & (FI <= 10) & (7 <= BI) & (BI <= 10)\"\n",
    "cut02 = cut16 + \" & (8 <= FI) & (FI <= 9) & (8 <= BI) & (BI <= 9)\""
   ]
  },
  {
   "cell_type": "code",
   "execution_count": null,
   "id": "5df4a6fe",
   "metadata": {},
   "outputs": [],
   "source": [
    "b16 = t.arrays([\"E\"], cut16)\n",
    "b14 = t.arrays([\"E\"], cut14)\n",
    "b12 = t.arrays([\"E\"], cut12)\n",
    "b10 = t.arrays([\"E\"], cut10)\n",
    "b08 = t.arrays([\"E\"], cut08)\n",
    "b06 = t.arrays([\"E\"], cut06)\n",
    "b04 = t.arrays([\"E\"], cut04)\n",
    "b02 = t.arrays([\"E\"], cut02)"
   ]
  },
  {
   "cell_type": "code",
   "execution_count": null,
   "id": "d09e7eb0",
   "metadata": {},
   "outputs": [],
   "source": [
    "N16 = len(ak.flatten(b16.E))\n",
    "N14 = len(ak.flatten(b14.E))\n",
    "N12 = len(ak.flatten(b12.E))\n",
    "N10 = len(ak.flatten(b10.E))\n",
    "N08 = len(ak.flatten(b08.E))\n",
    "N06 = len(ak.flatten(b06.E))\n",
    "N04 = len(ak.flatten(b04.E))\n",
    "N02 = len(ak.flatten(b02.E))"
   ]
  },
  {
   "cell_type": "code",
   "execution_count": null,
   "id": "730229cf",
   "metadata": {},
   "outputs": [],
   "source": [
    "srU3_sum = np.array([np.sum(srU3[0:16,0:16]), np.sum(srU3[1:15,1:15]), np.sum(srU3[2:14,2:14]), \n",
    "                     np.sum(srU3[3:13,3:13]), np.sum(srU3[4:12,4:12]), np.sum(srU3[5:11,5:11]), \n",
    "                     np.sum(srU3[6:10,6:10]), np.sum(srU3[7:9,7:9])])\n",
    "NU3 = np.array([N16, N14, N12, N10, N08, N06, N04, N02])\n",
    "print(srU3_sum)\n",
    "print(srU3_sum[1:])"
   ]
  },
  {
   "cell_type": "code",
   "execution_count": null,
   "id": "618ff9f9",
   "metadata": {},
   "outputs": [],
   "source": [
    "bins = np.arange(0.3, 3.0, 0.010)\n",
    "\n",
    "fig, axes= plt.subplots(2, 1, figsize=(1.2*scale*6.4, 1.2*scale*4.8), height_ratios=[2.5, 1])\n",
    "#fig, axes= plt.subplots(2, 1, figsize=(12, 10), height_ratios=[2.5, 1])\n",
    "plt.subplots_adjust(hspace=0.4)\n",
    "plt.sca(axes[0])\n",
    "plt.hist(ak.flatten(b16.E)/1e3, color='silver', histtype='stepfilled', bins=bins, label='All 16×16 strips')\n",
    "plt.hist(ak.flatten(b14.E)/1e3, color='k', lw=1, ls='-', histtype='step', bins=bins, label='Inner 14×14 strips only')\n",
    "plt.hist(ak.flatten(b12.E)/1e3, color='k', lw=1, ls=(0, (5, 1.5)), histtype='step', bins=bins, label='Inner 12×12 strips only')\n",
    "plt.yscale('log')\n",
    "plt.xlabel('$E_{\\mathrm{dep}}$ (MeV)')\n",
    "plt.ylabel('Counts / 10 keV')\n",
    "plt.ylim(1, 8e4)\n",
    "\n",
    "plt.legend(loc='upper left')\n",
    "plt.sca(axes[1])\n",
    "plt.plot(srU3_sum/srU3_sum[0], NU3/NU3[0] - srU3_sum/srU3_sum[0], 'o--', color='k', label='All 16×16 strips', zorder=3)\n",
    "plt.plot(srU3_sum[1:]/srU3_sum[1], NU3[1:]/NU3[1] - srU3_sum[1:]/srU3_sum[1], 'X-', ms=12, color='k', markerfacecolor='white', markeredgecolor='k', label='Inner 14×14 strips only')\n",
    "plt.hlines(0, -0.05, 1.05, linestyles='--', colors='grey', lw=1, zorder=-1)\n",
    "plt.xlabel('$\\Omega\\,/\\,\\Omega_{\\max}$')\n",
    "plt.ylabel('$(N\\,/\\,N_{\\max}) - (\\Omega\\,/\\,\\Omega_{\\max})$')\n",
    "plt.xticks(np.arange(0, 1+0.2, 0.2), labels=['0', '0.2', '0.4', '0.6', '0.8', '1'])\n",
    "plt.xlim(-0.05, +1.05)\n",
    "plt.ylim(-0.05, +0.05)\n",
    "plt.legend(loc='upper left', fontsize='x-large', bbox_to_anchor=(0, 1.3), framealpha=1)\n",
    "plt.savefig('distortionU3.svg', bbox_inches='tight')\n",
    "plt.show()"
   ]
  },
  {
   "cell_type": "code",
   "execution_count": null,
   "id": "a61d052f",
   "metadata": {},
   "outputs": [],
   "source": [
    "print(np.abs(NU3/NU3[0] - srU3_sum/srU3_sum[0]))\n",
    "print(np.max(np.abs(NU3/NU3[0] - srU3_sum/srU3_sum[0])))\n",
    "\n",
    "print(np.abs(NU3[1:]/NU3[1] - srU3_sum[1:]/srU3_sum[1]))\n",
    "print(np.max(np.abs(NU3[1:]/NU3[1] - srU3_sum[1:]/srU3_sum[1])))"
   ]
  },
  {
   "cell_type": "code",
   "execution_count": null,
   "id": "50fb0119",
   "metadata": {},
   "outputs": [],
   "source": [
    "f.close()"
   ]
  }
 ],
 "metadata": {
  "kernelspec": {
   "display_name": "Python 3 (ipykernel)",
   "language": "python",
   "name": "python3"
  },
  "language_info": {
   "codemirror_mode": {
    "name": "ipython",
    "version": 3
   },
   "file_extension": ".py",
   "mimetype": "text/x-python",
   "name": "python",
   "nbconvert_exporter": "python",
   "pygments_lexer": "ipython3",
   "version": "3.10.10"
  }
 },
 "nbformat": 4,
 "nbformat_minor": 5
}
