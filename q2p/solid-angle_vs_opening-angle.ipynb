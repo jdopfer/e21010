{
 "cells": [
  {
   "cell_type": "code",
   "execution_count": null,
   "id": "1c5ddef0",
   "metadata": {},
   "outputs": [],
   "source": [
    "import numpy as np\n",
    "import matplotlib.pyplot as plt\n",
    "plt.rc(\"pdf\", fonttype=42)\n",
    "plt.rc(\"pdf\", fonttype=42)\n",
    "plt.rc(\"axes\", labelsize=20)\n",
    "plt.rc(\"xtick\", labelsize=16, top=True, direction=\"in\")\n",
    "plt.rc(\"ytick\", labelsize=16, right=True, direction=\"in\")\n",
    "plt.rc(\"axes\", titlesize=20)\n",
    "plt.rc(\"legend\", fontsize=14)\n",
    "\n",
    "import os\n",
    "curdir = os.getcwd()\n",
    "while not os.path.exists(\".projectroot\") and os.getcwd() != os.path.expanduser('~'):\n",
    "    os.chdir(\"..\")\n",
    "try:\n",
    "    proot = open(\".projectroot\").readline()\n",
    "except:\n",
    "    print(\"Could not find file '.projectroot'.\")\n",
    "    print(\"Fallback: Look for the file 'rpad.py' in the current working directory (%s).\" % curdir)\n",
    "    print(\"Fonts in figures might not appear as intended, either.\")\n",
    "os.chdir(curdir)\n",
    "import sys\n",
    "import matplotlib.font_manager as font_manager\n",
    "if len(proot) > 0:\n",
    "    sys.path.append(proot+\"/python\")\n",
    "    font_dir = proot + '/fonts'\n",
    "    font_files = font_manager.findSystemFonts(font_dir)\n",
    "    for f in font_files:\n",
    "        font_manager.FontManager.addfont(font_manager.fontManager, path=f)\n",
    "    plt.rcParams.update({\"font.family\": \"serif\", \"font.serif\": \"Linux Libertine O\", \"font.cursive\": \"Linux Libertine O\", \"font.sans-serif\": \"Linux Libertine O\", \"mathtext.fontset\": \"custom\"})\n",
    "from rpad import rpad"
   ]
  },
  {
   "cell_type": "code",
   "execution_count": null,
   "id": "b1afd33f",
   "metadata": {},
   "outputs": [],
   "source": [
    "oa = np.loadtxt(\"../data/oa_vs_sa/theta.dat\")\n",
    "sa = np.loadtxt(\"../data/oa_vs_sa/omega.dat\")"
   ]
  },
  {
   "cell_type": "code",
   "execution_count": null,
   "id": "83e5e046",
   "metadata": {},
   "outputs": [],
   "source": [
    "plt.plot(oa, sa*100, 'k')\n",
    "plt.xticks(np.arange(0, 180+15, 15), minor=True)\n",
    "plt.xticks(np.arange(0, 180+30, 30))\n",
    "plt.xlabel('$\\Theta_{\\mathrm{2p}}$ (deg.)')\n",
    "plt.ylabel('$\\Omega$ (% of 4$\\pi$)')\n",
    "plt.savefig(\"solid-angle_vs_opening-angle.pdf\", dpi=300, bbox_inches='tight')"
   ]
  },
  {
   "cell_type": "code",
   "execution_count": null,
   "id": "52ce5007",
   "metadata": {},
   "outputs": [],
   "source": []
  }
 ],
 "metadata": {
  "kernelspec": {
   "display_name": "Python 3 (ipykernel)",
   "language": "python",
   "name": "python3"
  },
  "language_info": {
   "codemirror_mode": {
    "name": "ipython",
    "version": 3
   },
   "file_extension": ".py",
   "mimetype": "text/x-python",
   "name": "python",
   "nbconvert_exporter": "python",
   "pygments_lexer": "ipython3",
   "version": "3.10.10"
  }
 },
 "nbformat": 4,
 "nbformat_minor": 5
}
