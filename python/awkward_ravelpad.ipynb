{
 "cells": [
  {
   "cell_type": "markdown",
   "id": "ce76e8bc",
   "metadata": {},
   "source": [
    "Same idea as in `awkward_arrays.ipynb` but define a small utility function which does everything for us.\n",
    "\n",
    "`NAN` values might be present in the input arrays, so we add an `ak.nan_to_none` step, ensuring streamlined outputs.\n",
    "\n",
    "The returned arrays are explicitly converted from `awkward` arrays to `numpy` arrays to ensure compatibility with `numpy`, `matplotlib`, etc.\n",
    "\n",
    "The function `rpad(x, y)` is defined in the file `rpad.py` and is imported here."
   ]
  },
  {
   "cell_type": "code",
   "execution_count": null,
   "id": "d224023e",
   "metadata": {},
   "outputs": [],
   "source": [
    "import awkward as ak\n",
    "from rpad import rpad"
   ]
  },
  {
   "cell_type": "code",
   "execution_count": null,
   "id": "bf9af2cb",
   "metadata": {},
   "outputs": [],
   "source": [
    "x = ak.Array([[],  [1], [2,3], [4],     [5,6,7]])\n",
    "y = ak.Array([[1], [],  [2,3], [4,5,6], [6,7]])\n",
    "print(x)\n",
    "print(y)\n",
    "x, y = rpad(x, y)\n",
    "print(x)\n",
    "print(y)"
   ]
  },
  {
   "cell_type": "code",
   "execution_count": null,
   "id": "68f20cb7",
   "metadata": {
    "scrolled": false
   },
   "outputs": [],
   "source": [
    "import matplotlib.pyplot as plt\n",
    "plt.plot(x, y, '.-')"
   ]
  }
 ],
 "metadata": {
  "kernelspec": {
   "display_name": "Python 3 (ipykernel)",
   "language": "python",
   "name": "python3"
  },
  "language_info": {
   "codemirror_mode": {
    "name": "ipython",
    "version": 3
   },
   "file_extension": ".py",
   "mimetype": "text/x-python",
   "name": "python",
   "nbconvert_exporter": "python",
   "pygments_lexer": "ipython3",
   "version": "3.10.10"
  }
 },
 "nbformat": 4,
 "nbformat_minor": 5
}
