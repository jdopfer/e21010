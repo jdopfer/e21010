{
 "cells": [
  {
   "cell_type": "code",
   "execution_count": null,
   "id": "d224023e",
   "metadata": {},
   "outputs": [],
   "source": [
    "import awkward as ak"
   ]
  },
  {
   "cell_type": "code",
   "execution_count": null,
   "id": "729652d2",
   "metadata": {},
   "outputs": [],
   "source": [
    "x = ak.Array([[],  [1], [2,3], [4],     [5,6,7]])\n",
    "y = ak.Array([[1], [],  [2,3], [4,5,6], [6,7]])\n",
    "print(\"x:\", x)\n",
    "print(\"y:\", y)\n",
    "print()\n",
    "print(\"ak.num(x):\", ak.num(x))\n",
    "print(\"ak.num(y):\", ak.num(y))"
   ]
  },
  {
   "cell_type": "code",
   "execution_count": null,
   "id": "9708a070",
   "metadata": {},
   "outputs": [],
   "source": [
    "max_mul = int(max(max(ak.num(x)), max(ak.num(y))))\n",
    "print(\"maximum multiplicity between x and y:\", max_mul)"
   ]
  },
  {
   "cell_type": "code",
   "execution_count": null,
   "id": "6e75d794",
   "metadata": {},
   "outputs": [],
   "source": [
    "x = ak.pad_none(x, target=max_mul, clip=True)\n",
    "y = ak.pad_none(y, target=max_mul, clip=True)\n",
    "print(\"x:\", x)\n",
    "print(\"y:\", y)"
   ]
  },
  {
   "cell_type": "code",
   "execution_count": null,
   "id": "2dbc5a47",
   "metadata": {},
   "outputs": [],
   "source": [
    "x = ak.ravel(x)\n",
    "y = ak.ravel(y)\n",
    "print(\"x:\", x)\n",
    "print(\"y:\", y)"
   ]
  },
  {
   "cell_type": "code",
   "execution_count": null,
   "id": "2a051718",
   "metadata": {},
   "outputs": [],
   "source": [
    "import matplotlib.pyplot as plt\n",
    "plt.plot(x, y, '.-')"
   ]
  }
 ],
 "metadata": {
  "kernelspec": {
   "display_name": "Python 3 (ipykernel)",
   "language": "python",
   "name": "python3"
  },
  "language_info": {
   "codemirror_mode": {
    "name": "ipython",
    "version": 3
   },
   "file_extension": ".py",
   "mimetype": "text/x-python",
   "name": "python",
   "nbconvert_exporter": "python",
   "pygments_lexer": "ipython3",
   "version": "3.10.10"
  }
 },
 "nbformat": 4,
 "nbformat_minor": 5
}
